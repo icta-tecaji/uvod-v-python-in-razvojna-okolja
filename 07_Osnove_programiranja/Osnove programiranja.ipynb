{
 "cells": [
  {
   "cell_type": "markdown",
   "id": "7e042ecb",
   "metadata": {},
   "source": [
    "# Osnove programiranja v Python-u"
   ]
  },
  {
   "cell_type": "markdown",
   "id": "f95003b2",
   "metadata": {},
   "source": [
    "## Spremenljivke"
   ]
  },
  {
   "cell_type": "code",
   "execution_count": null,
   "id": "0380f8fe",
   "metadata": {},
   "outputs": [],
   "source": [
    "stevilo_dnevov = 45\n",
    "stevilo_dnevov + 1"
   ]
  },
  {
   "cell_type": "markdown",
   "id": "1aa66cf1",
   "metadata": {},
   "source": [
    "Podatkovni tipi: string, int, float, bool, None"
   ]
  },
  {
   "cell_type": "code",
   "execution_count": null,
   "id": "ccd1b366",
   "metadata": {},
   "outputs": [],
   "source": [
    "# string \n",
    "a = \"besedilo\"\n",
    "b = 'on je rekel: \"to je danes\"'\n",
    "print(b)\n",
    "print(type(b))"
   ]
  },
  {
   "cell_type": "code",
   "execution_count": null,
   "id": "0b7e0885",
   "metadata": {},
   "outputs": [],
   "source": [
    "a.upper()"
   ]
  },
  {
   "cell_type": "code",
   "execution_count": null,
   "id": "a86b60e8",
   "metadata": {},
   "outputs": [],
   "source": [
    "print(r\"danes\\sje\\slep\\ndan\\thahah\")"
   ]
  },
  {
   "cell_type": "code",
   "execution_count": null,
   "id": "4e681eab",
   "metadata": {},
   "outputs": [],
   "source": [
    "# int\n",
    "c = 345\n",
    "print(type(c))"
   ]
  },
  {
   "cell_type": "code",
   "execution_count": null,
   "id": "0a89bac2",
   "metadata": {},
   "outputs": [],
   "source": [
    "# float\n",
    "d = 45.455\n",
    "print(type(d))"
   ]
  },
  {
   "cell_type": "code",
   "execution_count": null,
   "id": "0304b33c",
   "metadata": {},
   "outputs": [],
   "source": [
    "# bool\n",
    "e = True\n",
    "f = False\n",
    "print(type(e))"
   ]
  },
  {
   "cell_type": "code",
   "execution_count": null,
   "id": "0ad34ce9",
   "metadata": {},
   "outputs": [],
   "source": [
    "# None\n",
    "l = None\n",
    "print(type(l))"
   ]
  },
  {
   "cell_type": "markdown",
   "id": "a32b776e",
   "metadata": {},
   "source": [
    "Build in funkcije: https://docs.python.org/3/library/functions.html "
   ]
  },
  {
   "cell_type": "markdown",
   "id": "7f66346d",
   "metadata": {},
   "source": [
    "- Spremenljivke ne smejo začeti z številko.\n"
   ]
  },
  {
   "cell_type": "markdown",
   "id": "287e2eda",
   "metadata": {},
   "source": [
    "moj_podatek"
   ]
  },
  {
   "cell_type": "markdown",
   "id": "74a9d774",
   "metadata": {},
   "source": [
    "## List"
   ]
  },
  {
   "cell_type": "code",
   "execution_count": null,
   "id": "47b6d4b9",
   "metadata": {},
   "outputs": [],
   "source": [
    "moji_podatki = [4,5,\"hallo\", 45.5, True]"
   ]
  },
  {
   "cell_type": "code",
   "execution_count": null,
   "id": "41729ac0",
   "metadata": {},
   "outputs": [],
   "source": [
    "print(moji_podatki)"
   ]
  },
  {
   "cell_type": "code",
   "execution_count": null,
   "id": "fdc02664",
   "metadata": {},
   "outputs": [],
   "source": [
    "moji_podatki[3]"
   ]
  },
  {
   "cell_type": "markdown",
   "id": "355b3af6",
   "metadata": {},
   "source": [
    "indexe štejemo z 0"
   ]
  },
  {
   "cell_type": "code",
   "execution_count": null,
   "id": "03477b9f",
   "metadata": {},
   "outputs": [],
   "source": []
  },
  {
   "cell_type": "markdown",
   "id": "93be8794",
   "metadata": {},
   "source": [
    "## Branje datotek"
   ]
  },
  {
   "cell_type": "markdown",
   "id": "60ffaf71",
   "metadata": {},
   "source": [
    "Modes: r, w, a, + je opcija za branje pri a in w"
   ]
  },
  {
   "cell_type": "code",
   "execution_count": null,
   "id": "eff5188f",
   "metadata": {},
   "outputs": [],
   "source": [
    "f_test = open(\"data/file.txt\", \"r\")\n",
    "podatki = f_test.readlines()"
   ]
  },
  {
   "cell_type": "code",
   "execution_count": null,
   "id": "d14bb505",
   "metadata": {},
   "outputs": [],
   "source": [
    "print(podatki)\n",
    "print(type(podatki))"
   ]
  },
  {
   "cell_type": "code",
   "execution_count": null,
   "id": "aecf467c",
   "metadata": {},
   "outputs": [],
   "source": [
    "podatki[1].strip()"
   ]
  },
  {
   "cell_type": "code",
   "execution_count": null,
   "id": "42b6e559",
   "metadata": {},
   "outputs": [],
   "source": [
    "f_test.close()"
   ]
  },
  {
   "cell_type": "code",
   "execution_count": null,
   "id": "671cb503",
   "metadata": {},
   "outputs": [],
   "source": [
    "# with stavek - context manager\n",
    "\n",
    "with open(\"data/file.txt\", \"r\") as f_test:\n",
    "    podatki = f_test.readlines()\n",
    "    print(podatki)\n",
    "\n",
    "#data2= f_test.readlines()\n",
    "print(podatki)"
   ]
  },
  {
   "cell_type": "code",
   "execution_count": null,
   "id": "a6d6c093",
   "metadata": {},
   "outputs": [],
   "source": [
    "l1 = ['AAAAAAAAAAAAAAAAAAAAA\\n', 'AAAAAAAAAAAAAAAAAAAAA\\n', 'AAAAAAAAAAAAAAAAAAAAA\\n']\n",
    "l2 = ['BBBBBBBBBBBBBBB\\n', 'BBBBBBBBBBBBBBB\\n', 'BBBBBBBBBBBBBBB\\n']"
   ]
  },
  {
   "cell_type": "code",
   "execution_count": null,
   "id": "cc42eedf",
   "metadata": {},
   "outputs": [],
   "source": [
    "merge = l1 + l2"
   ]
  },
  {
   "cell_type": "code",
   "execution_count": null,
   "id": "f4a484cc",
   "metadata": {},
   "outputs": [],
   "source": [
    "merge[1]"
   ]
  },
  {
   "cell_type": "code",
   "execution_count": null,
   "id": "4efabe38",
   "metadata": {},
   "outputs": [],
   "source": [
    "new_list= []\n",
    "\n",
    "for element in merge:\n",
    "    new_list.append(element.strip())\n",
    "    print(new_list)"
   ]
  },
  {
   "cell_type": "code",
   "execution_count": null,
   "id": "778dfc3f",
   "metadata": {},
   "outputs": [],
   "source": [
    "new_list"
   ]
  },
  {
   "cell_type": "code",
   "execution_count": null,
   "id": "0f735236",
   "metadata": {},
   "outputs": [],
   "source": [
    "data = []\n",
    "data.append(\"dsdsd\")"
   ]
  },
  {
   "cell_type": "code",
   "execution_count": null,
   "id": "412f8928",
   "metadata": {},
   "outputs": [],
   "source": [
    "data"
   ]
  },
  {
   "cell_type": "code",
   "execution_count": null,
   "id": "ff732d02",
   "metadata": {},
   "outputs": [],
   "source": [
    "data.append(\"sffrggr\")"
   ]
  },
  {
   "cell_type": "code",
   "execution_count": null,
   "id": "191f9798",
   "metadata": {},
   "outputs": [],
   "source": [
    "data"
   ]
  },
  {
   "cell_type": "code",
   "execution_count": null,
   "id": "cc8d0d42",
   "metadata": {},
   "outputs": [],
   "source": [
    "a = \"lalala\""
   ]
  },
  {
   "cell_type": "code",
   "execution_count": null,
   "id": "6aeb2169",
   "metadata": {},
   "outputs": [],
   "source": [
    "a + \"\\n\""
   ]
  },
  {
   "cell_type": "markdown",
   "id": "3ef0eed7",
   "metadata": {},
   "source": [
    "## Tuple"
   ]
  },
  {
   "cell_type": "code",
   "execution_count": null,
   "id": "f90ceecd",
   "metadata": {},
   "outputs": [],
   "source": [
    "t = (1,2,3)"
   ]
  },
  {
   "cell_type": "code",
   "execution_count": null,
   "id": "23b7ec2e",
   "metadata": {},
   "outputs": [],
   "source": [
    "t[0]"
   ]
  },
  {
   "cell_type": "code",
   "execution_count": null,
   "id": "a379163b",
   "metadata": {},
   "outputs": [],
   "source": [
    "t[0] = 34"
   ]
  },
  {
   "cell_type": "code",
   "execution_count": null,
   "id": "fdaa8084",
   "metadata": {},
   "outputs": [],
   "source": [
    "l = [1,2,3]"
   ]
  },
  {
   "cell_type": "code",
   "execution_count": null,
   "id": "b1f8a82c",
   "metadata": {},
   "outputs": [],
   "source": [
    "l[0] = \"a\""
   ]
  },
  {
   "cell_type": "code",
   "execution_count": null,
   "id": "854550e2",
   "metadata": {},
   "outputs": [],
   "source": [
    "print(l)"
   ]
  },
  {
   "cell_type": "code",
   "execution_count": null,
   "id": "d5986e73",
   "metadata": {},
   "outputs": [],
   "source": []
  },
  {
   "cell_type": "code",
   "execution_count": null,
   "id": "5ce71521",
   "metadata": {},
   "outputs": [],
   "source": []
  },
  {
   "cell_type": "markdown",
   "id": "a0d92758",
   "metadata": {},
   "source": [
    "## If stavek"
   ]
  },
  {
   "cell_type": "code",
   "execution_count": null,
   "id": "19e69dd7",
   "metadata": {},
   "outputs": [],
   "source": [
    "naredi = 45\n",
    "\n",
    "if naredi == 42:\n",
    "    print(\"Narejeno\")"
   ]
  },
  {
   "cell_type": "markdown",
   "id": "b8c37f02",
   "metadata": {},
   "source": [
    "## List comprehations"
   ]
  },
  {
   "cell_type": "code",
   "execution_count": null,
   "id": "32a11667",
   "metadata": {},
   "outputs": [],
   "source": [
    "new_list= []\n",
    "\n",
    "for element in merge:\n",
    "    new_list.append(element.strip())"
   ]
  },
  {
   "cell_type": "code",
   "execution_count": null,
   "id": "27622cf9",
   "metadata": {},
   "outputs": [],
   "source": [
    "merge"
   ]
  },
  {
   "cell_type": "code",
   "execution_count": null,
   "id": "fc394c29",
   "metadata": {},
   "outputs": [],
   "source": [
    "merge = [element.strip() for element in merge]"
   ]
  },
  {
   "cell_type": "code",
   "execution_count": null,
   "id": "417d8c07",
   "metadata": {},
   "outputs": [],
   "source": [
    "merge"
   ]
  },
  {
   "cell_type": "markdown",
   "id": "32fa9c9a",
   "metadata": {},
   "source": [
    "## Funkcije"
   ]
  },
  {
   "cell_type": "code",
   "execution_count": null,
   "id": "2006a42a",
   "metadata": {},
   "outputs": [],
   "source": [
    "with open(\"data/file.txt\", \"r\") as f_test:\n",
    "    podatki = f_test.readlines()\n",
    "    print(podatki)"
   ]
  },
  {
   "cell_type": "code",
   "execution_count": null,
   "id": "ce9475b0",
   "metadata": {},
   "outputs": [],
   "source": []
  },
  {
   "cell_type": "code",
   "execution_count": null,
   "id": "9ab9760b",
   "metadata": {},
   "outputs": [],
   "source": [
    "def print_file_content(file_path):\n",
    "    with open(file_path, \"r\") as f_test:\n",
    "        podatki = f_test.readlines()\n",
    "        return podatki\n",
    "        #print(podatki)\n",
    "\n",
    "data = print_file_content(\"data/file.txt\")\n",
    "print(data)\n"
   ]
  },
  {
   "cell_type": "code",
   "execution_count": null,
   "id": "3bbd084a",
   "metadata": {},
   "outputs": [],
   "source": [
    "paths = [\"data/file.txt\", \"data/file2.txt\", \"data/file3.txt\"]\n",
    "for path in paths:\n",
    "    print_file_content(path)"
   ]
  },
  {
   "cell_type": "code",
   "execution_count": null,
   "id": "4c01ae02",
   "metadata": {},
   "outputs": [],
   "source": [
    "def sum_data(number1, number2):\n",
    "    return number1 + number2"
   ]
  },
  {
   "cell_type": "code",
   "execution_count": null,
   "id": "4726cf91",
   "metadata": {},
   "outputs": [],
   "source": [
    "sum_data(5, 45)"
   ]
  },
  {
   "cell_type": "code",
   "execution_count": null,
   "id": "56d7a8b1",
   "metadata": {},
   "outputs": [],
   "source": [
    "sum_data(323, 5)"
   ]
  },
  {
   "cell_type": "markdown",
   "id": "4997232a",
   "metadata": {},
   "source": [
    "## Paths"
   ]
  },
  {
   "cell_type": "code",
   "execution_count": null,
   "id": "40ee1ef9",
   "metadata": {},
   "outputs": [],
   "source": [
    "import os \n",
    "\n",
    "def get_absolute_file_paths(folder_name):\n",
    "    absolute_paths = []\n",
    "    for dirpath, _, filenames in os.walk(folder_name):\n",
    "        for filename in filenames:\n",
    "            absolute_path = os.path.abspath(os.path.join(dirpath, filename))\n",
    "            absolute_paths.append(absolute_path)\n",
    "    return absolute_paths\n",
    "    \n",
    "    \n",
    "    \n",
    "    \n",
    "    \n",
    "get_absolute_file_paths(\"data\")"
   ]
  },
  {
   "cell_type": "code",
   "execution_count": null,
   "id": "241e6cc7",
   "metadata": {},
   "outputs": [],
   "source": [
    "       for filename in filenames:\n",
    "            absolute_path = os.path.abspath(os.path.join(dirpath, filename))\n",
    "            absolute_paths.append(absolute_path)\n",
    "    return absolute_paths"
   ]
  },
  {
   "cell_type": "code",
   "execution_count": null,
   "id": "98fadb9e",
   "metadata": {},
   "outputs": [],
   "source": [
    "get_absolute_file_paths(\"data\")"
   ]
  },
  {
   "cell_type": "code",
   "execution_count": null,
   "id": "aa278321",
   "metadata": {},
   "outputs": [],
   "source": [
    "for line in os.walk(\"data\"):\n",
    "    print(line)"
   ]
  },
  {
   "cell_type": "markdown",
   "id": "340349e6",
   "metadata": {},
   "source": [
    "# Branje command line argumentov"
   ]
  },
  {
   "cell_type": "markdown",
   "id": "04601799",
   "metadata": {},
   "source": [
    "https://typer.tiangolo.com/"
   ]
  },
  {
   "cell_type": "code",
   "execution_count": null,
   "id": "ecfffd42",
   "metadata": {},
   "outputs": [],
   "source": [
    "argumenti = ['.\\\\main.py', '--input-path=moje_datoteke/file*', '--output-path=results', '--remove-empty-lines']"
   ]
  },
  {
   "cell_type": "code",
   "execution_count": null,
   "id": "26866601",
   "metadata": {},
   "outputs": [],
   "source": [
    "def parse_arguments_input_path(arguments: list[str]) -> str:\n",
    "    \"\"\"Parses input path from arguments.\"\"\"\n",
    "    for argument in arguments:\n",
    "        if argument.startswith(\"--input-path=\"):\n",
    "            input_path = argument.split(\"--input-path=\")[1]\n",
    "            return input_path\n",
    "    \n",
    "    print(\"Argument --input-path= not provided. Please use it.\")\n",
    "    sys.exit(1)\n",
    "        \n",
    "\n",
    "\n",
    "parse_arguments_input_path(argumenti)"
   ]
  },
  {
   "cell_type": "code",
   "execution_count": null,
   "id": "697c7828",
   "metadata": {},
   "outputs": [],
   "source": [
    "moje_datoteke\n",
    "\n",
    "/file*"
   ]
  },
  {
   "cell_type": "markdown",
   "id": "319c32eb",
   "metadata": {},
   "source": [
    "## Pandas"
   ]
  },
  {
   "cell_type": "code",
   "execution_count": null,
   "id": "1ef451cf",
   "metadata": {},
   "outputs": [],
   "source": [
    "#! pip install pandas"
   ]
  },
  {
   "cell_type": "code",
   "execution_count": null,
   "id": "d4475079",
   "metadata": {},
   "outputs": [],
   "source": [
    "#! pip install openpyxl"
   ]
  },
  {
   "cell_type": "code",
   "execution_count": null,
   "id": "cd6ca944",
   "metadata": {},
   "outputs": [],
   "source": [
    "#! pip install lxml"
   ]
  },
  {
   "cell_type": "markdown",
   "id": "af2852a4",
   "metadata": {},
   "source": [
    "https://pandas.pydata.org/docs/reference/io.html"
   ]
  },
  {
   "cell_type": "code",
   "execution_count": 1,
   "id": "e3aab6b0",
   "metadata": {},
   "outputs": [],
   "source": [
    "import pandas as pd"
   ]
  },
  {
   "cell_type": "code",
   "execution_count": null,
   "id": "5cdb5a7d",
   "metadata": {},
   "outputs": [],
   "source": [
    "pd.read_csv(\"https://podatki.gov.si/dataset/83c7e79c-eff6-4e99-8de3-c1942ba86188/resource/84f76597-64d8-4e9e-9351-4df81b08aae5/download/lokacijezbiralnikovzaodpadnojedilnooljevobinisevnica.csv\", sep=\";\")"
   ]
  },
  {
   "cell_type": "code",
   "execution_count": 5,
   "id": "af7b8dbc",
   "metadata": {},
   "outputs": [],
   "source": [
    "#pd.read_html(\"https://en.wikipedia.org/wiki/List_of_Game_of_Thrones_episodes\")[1]"
   ]
  },
  {
   "cell_type": "code",
   "execution_count": 27,
   "id": "7f146fc6",
   "metadata": {},
   "outputs": [
    {
     "name": "stdout",
     "output_type": "stream",
     "text": [
      "['BBD88544.1', 'YP_001333649.1', 'AWM98766.2', 'AEW50165.1', 'QDO67152.1', 'QWT83704.1', 'UME39179.1', 'YP_009130653.1', 'YP_009094908.1', 'YP_719997.2', 'YP_008802584.1', 'ANY39528.2', 'AEV53621.1', 'YP_001974323.2', 'BCI92999.1', 'ABD94118.1', 'YP_762617.1', 'ATW75990.1', 'NP_620841.1', 'UBB59573.1', 'AHW98777.1', 'AAG42815.1', '2203312A', 'YP_009362087.1', 'YP_009254747.1', 'AFN80475.1', 'YP_004465358.1', 'AEW67306.2', 'YP_002455905.1', 'YP_908760.1', 'NP_671718.1', 'AVW80123.1', 'NP_619684.1', 'CAD10425.1', 'NP_044577.1', 'NP_597746.1', 'AAW88523.1']\n"
     ]
    }
   ],
   "source": [
    "podatki = pd.read_excel(\"acc.xlsx\", sheet_name=\"Sheet1\")\n",
    "podatki[\"Input_clean\"] = podatki[\"Input\"].str.replace(\">\", \"\")\n",
    "podatki[\"Input_clean\"] = podatki[\"Input_clean\"].str.replace(\"prf||\", \"\")\n",
    "acc_numbers = podatki.loc[:, \"Input_clean\"].to_list()\n",
    "print(acc_numbers)\n"
   ]
  },
  {
   "cell_type": "markdown",
   "id": "4b3498c5",
   "metadata": {},
   "source": [
    "https://www.selenium.dev/"
   ]
  },
  {
   "cell_type": "code",
   "execution_count": 16,
   "id": "10cdf3fb",
   "metadata": {},
   "outputs": [],
   "source": [
    "#! pip install requests"
   ]
  },
  {
   "cell_type": "code",
   "execution_count": 17,
   "id": "d60a1e12",
   "metadata": {},
   "outputs": [],
   "source": [
    "import requests"
   ]
  },
  {
   "cell_type": "code",
   "execution_count": 21,
   "id": "bbe47a86",
   "metadata": {},
   "outputs": [
    {
     "data": {
      "text/plain": [
       "b'>NP_620841.1 180K protein [Obuda pepper virus]\\nMAHIQQSMQGALLDTVRGQNSLVNDLAKRRLYDTAVEEFNAKDRRPKINFSKSINEEQTLIVSQAYPEFQ\\nITFYNTQLAVHSLAAGLRSLELEYLMMQVPYGSLTYDIGGNFAAHLFKGRDYVHCCMPNLDLRDIMRHEN\\nQKDSVATYLSRLKARNKVLPAFQQEAFQRYSERSDEVVCNNTFQCCESNRYSSGGRVYAISLHSLYDIPA\\nDELGAALLRKNVHTLYAAFHFAEELLLEVSTVELPTIGGIFSRDGDKINFCFSNESTLNYSHSYSNLLKY\\nVCKTYFPASNRFVYMKEFLITRVNTWFCKFTKLDTYTLYRGVYHRGCDQQEFYSAMEDAWHYKKTLAMLN\\nSERIVLEDHSSVNYWFPKMKDMVIVPLFDVSLETQKRTKKEVIVSKDFVYTVLNHIRTYQAKALTYNNVL\\nSFVESIRSRVIINGVTARSEWDVDKALLQSMAMTFFLITKLSMLKDELLVSKFTLSAKSVHEHVWDEIKR\\nGCGNMFPSLKESLLRKKLISGSAEELEIEVPDMYVTFHDRFVAEYKASVEMPTIDISKDLSEAESYYSAL\\nSELSVLENSKDFDLEKFSRMCAINCVNPDIAAKIVVAVLSNESGVTLPFKEPTEGNMAEAMKSGEKDEVL\\nTLGSQTDNTDLTSKSMVISGSLPLCGIASEISCDTFVRNEEINSLEEYHMLAAESVISNKMASIVYSGPL\\nQVQQMQNYVDSLAASLSATVSNLKKLVKDSSVGFQDSLSKVGVFDVRKKMWLIKPTLKNHSWGVVQKFDG\\nKCFLALLSYHNELPICDADWSKVAVSNESMVYSDMAKLRVLRKSIGEMPISVSSAKVTLVDGVPGCGKTK\\nEILRRVNFSEDLVLVPGKEAAAMIRKRANQSGNIVANNDNVKTVDSFLMNLGKGPVCQFKRLFVDEGLML\\nHPGCVYFLVKLSLCNEAFVFGDTQQIPYINRVQNFPFPQHFSKLIVDETEKRRTTLRCPVDVTHFLNQCY\\nDGAVTTTSKTQRSVGLEVVGGAAVMNPVTKPLKGKIVTFTQSDKLTMLSRGYQDVNTVHEIQGETYEEVS\\nLVRLTPTPIHIISRESPHVLVGLTRHTRCFKYYTVVLDPLVKLVRDLECVSNFLLDVYMVDSVSAXQLQV\\nSGVYLAENLFVQAPKSGDAQDLQFYYDKCLPGNSTVLNEFDAVTMNCSDISLNVKDCVLDFSKSVPLPRD\\nNTKVPMTPVIRTAAERPRSQGLLENLVAMIKRNFNSPELSGTVDMENTASVVADRFFDSYFLKDKLSGCS\\nLGDSGGKNIIDRQALIRWMEKQEKSTIGQLADYDFVDLPAIDQYRHIIKSQPKQKLDLSIQSEYPSLQTI\\nVYHSKKINALFGPIFSELTRQMLSAIDTSRYLFFTRKTPEQIEEFFSDLDAHQPMEVLELDVSKYDKSQN\\nEFHCAVEYEIWKRLGIDEFLAEVWKQGHRKTTLKDYTAGIKTCLWYQRKSGDVTTFIGNTVIIAACMASM\\nLPMEKVIKAAFCGDDSLVYLPKGCELPNIQSCANLMWNFEAKLFKKTYGYFCGRYVIHHDRGAIVYVDPL\\nKIISKLGAKHITDKEHLEEFRISLADVSKSLNNCAYYAQLDEAVREVHKTAPPGSFVYKCIVKFLSNRVL\\nFESLFF\\n\\n'"
      ]
     },
     "execution_count": 21,
     "metadata": {},
     "output_type": "execute_result"
    }
   ],
   "source": [
    "r = requests.get(\"https://www.ncbi.nlm.nih.gov/sviewer/viewer.fcgi?id=20806011&db=protein&report=fasta&retmode=text&ncbi_phid=CE8B71F149BF22F100000000064F04FD&withmarkup=on&tool=portal&log$=seqview&maxdownloadsize=1000000\")\n",
    "r.content"
   ]
  },
  {
   "cell_type": "markdown",
   "id": "7061f44e",
   "metadata": {},
   "source": [
    "https://www.ncbi.nlm.nih.gov/datasets/docs/v2/reference-docs/rest-api/"
   ]
  },
  {
   "cell_type": "markdown",
   "id": "6a40e655",
   "metadata": {},
   "source": [
    "https://www.pola.rs/\n",
    "\n"
   ]
  },
  {
   "cell_type": "markdown",
   "id": "ef072aa2",
   "metadata": {},
   "source": [
    "# Parsanje https://gd.eppo.int/"
   ]
  },
  {
   "cell_type": "code",
   "execution_count": 29,
   "id": "b5cb0766",
   "metadata": {},
   "outputs": [],
   "source": [
    "url = \"https://gd.eppo.int/taxon/RALSSL\"\n",
    "\n",
    "with open(\"test.html\", \"wb\") as file:\n",
    "    resp = requests.get(url)\n",
    "    file.write(resp.content)"
   ]
  },
  {
   "cell_type": "code",
   "execution_count": null,
   "id": "8a103c29",
   "metadata": {},
   "outputs": [],
   "source": []
  },
  {
   "cell_type": "code",
   "execution_count": null,
   "id": "23e518c4",
   "metadata": {},
   "outputs": [],
   "source": []
  },
  {
   "cell_type": "code",
   "execution_count": null,
   "id": "f9917cce",
   "metadata": {},
   "outputs": [],
   "source": []
  },
  {
   "cell_type": "code",
   "execution_count": null,
   "id": "935bd42f",
   "metadata": {},
   "outputs": [],
   "source": []
  },
  {
   "cell_type": "code",
   "execution_count": null,
   "id": "f80e102b",
   "metadata": {},
   "outputs": [],
   "source": []
  },
  {
   "cell_type": "code",
   "execution_count": null,
   "id": "c0c59cd5",
   "metadata": {},
   "outputs": [],
   "source": []
  }
 ],
 "metadata": {
  "kernelspec": {
   "display_name": "Python 3 (ipykernel)",
   "language": "python",
   "name": "python3"
  },
  "language_info": {
   "codemirror_mode": {
    "name": "ipython",
    "version": 3
   },
   "file_extension": ".py",
   "mimetype": "text/x-python",
   "name": "python",
   "nbconvert_exporter": "python",
   "pygments_lexer": "ipython3",
   "version": "3.11.4"
  }
 },
 "nbformat": 4,
 "nbformat_minor": 5
}
