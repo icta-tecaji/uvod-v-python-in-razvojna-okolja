{
 "cells": [
  {
   "cell_type": "markdown",
   "id": "7e042ecb",
   "metadata": {},
   "source": [
    "# Osnove programiranja v Python-u"
   ]
  },
  {
   "cell_type": "markdown",
   "id": "f95003b2",
   "metadata": {},
   "source": [
    "## Spremenljivke"
   ]
  },
  {
   "cell_type": "code",
   "execution_count": 2,
   "id": "0380f8fe",
   "metadata": {},
   "outputs": [
    {
     "data": {
      "text/plain": [
       "46"
      ]
     },
     "execution_count": 2,
     "metadata": {},
     "output_type": "execute_result"
    }
   ],
   "source": [
    "stevilo_dnevov = 45\n",
    "stevilo_dnevov + 1"
   ]
  },
  {
   "cell_type": "markdown",
   "id": "1aa66cf1",
   "metadata": {},
   "source": [
    "Podatkovni tipi: string, int, float, bool, None"
   ]
  },
  {
   "cell_type": "code",
   "execution_count": 5,
   "id": "ccd1b366",
   "metadata": {},
   "outputs": [
    {
     "name": "stdout",
     "output_type": "stream",
     "text": [
      "on je rekel: \"to je danes\"\n",
      "<class 'str'>\n"
     ]
    }
   ],
   "source": [
    "# string \n",
    "a = \"besedilo\"\n",
    "b = 'on je rekel: \"to je danes\"'\n",
    "print(b)\n",
    "print(type(b))"
   ]
  },
  {
   "cell_type": "code",
   "execution_count": 16,
   "id": "0b7e0885",
   "metadata": {},
   "outputs": [
    {
     "data": {
      "text/plain": [
       "'BESEDILO'"
      ]
     },
     "execution_count": 16,
     "metadata": {},
     "output_type": "execute_result"
    }
   ],
   "source": [
    "a.upper()"
   ]
  },
  {
   "cell_type": "code",
   "execution_count": 9,
   "id": "a86b60e8",
   "metadata": {},
   "outputs": [
    {
     "name": "stdout",
     "output_type": "stream",
     "text": [
      "danes\\sje\\slep\\ndan\\thahah\n"
     ]
    }
   ],
   "source": [
    "print(r\"danes\\sje\\slep\\ndan\\thahah\")"
   ]
  },
  {
   "cell_type": "code",
   "execution_count": 6,
   "id": "4e681eab",
   "metadata": {},
   "outputs": [
    {
     "name": "stdout",
     "output_type": "stream",
     "text": [
      "<class 'int'>\n"
     ]
    }
   ],
   "source": [
    "# int\n",
    "c = 345\n",
    "print(type(c))"
   ]
  },
  {
   "cell_type": "code",
   "execution_count": 7,
   "id": "0a89bac2",
   "metadata": {},
   "outputs": [
    {
     "name": "stdout",
     "output_type": "stream",
     "text": [
      "<class 'float'>\n"
     ]
    }
   ],
   "source": [
    "# float\n",
    "d = 45.455\n",
    "print(type(d))"
   ]
  },
  {
   "cell_type": "code",
   "execution_count": 10,
   "id": "0304b33c",
   "metadata": {},
   "outputs": [
    {
     "name": "stdout",
     "output_type": "stream",
     "text": [
      "<class 'bool'>\n"
     ]
    }
   ],
   "source": [
    "# bool\n",
    "e = True\n",
    "f = False\n",
    "print(type(e))"
   ]
  },
  {
   "cell_type": "code",
   "execution_count": 13,
   "id": "0ad34ce9",
   "metadata": {},
   "outputs": [
    {
     "name": "stdout",
     "output_type": "stream",
     "text": [
      "<class 'NoneType'>\n"
     ]
    }
   ],
   "source": [
    "# None\n",
    "l = None\n",
    "print(type(l))"
   ]
  },
  {
   "cell_type": "markdown",
   "id": "a32b776e",
   "metadata": {},
   "source": [
    "Build in funkcije: https://docs.python.org/3/library/functions.html "
   ]
  },
  {
   "cell_type": "markdown",
   "id": "7f66346d",
   "metadata": {},
   "source": [
    "- Spremenljivke ne smejo začeti z številko.\n"
   ]
  },
  {
   "cell_type": "markdown",
   "id": "287e2eda",
   "metadata": {},
   "source": [
    "moj_podatek"
   ]
  },
  {
   "cell_type": "markdown",
   "id": "74a9d774",
   "metadata": {},
   "source": [
    "## List"
   ]
  },
  {
   "cell_type": "code",
   "execution_count": 39,
   "id": "47b6d4b9",
   "metadata": {},
   "outputs": [],
   "source": [
    "moji_podatki = [4,5,\"hallo\", 45.5, True]"
   ]
  },
  {
   "cell_type": "code",
   "execution_count": 40,
   "id": "41729ac0",
   "metadata": {},
   "outputs": [
    {
     "name": "stdout",
     "output_type": "stream",
     "text": [
      "[4, 5, 'hallo', 45.5, True]\n"
     ]
    }
   ],
   "source": [
    "print(moji_podatki)"
   ]
  },
  {
   "cell_type": "code",
   "execution_count": 43,
   "id": "fdc02664",
   "metadata": {},
   "outputs": [
    {
     "data": {
      "text/plain": [
       "45.5"
      ]
     },
     "execution_count": 43,
     "metadata": {},
     "output_type": "execute_result"
    }
   ],
   "source": [
    "moji_podatki[3]"
   ]
  },
  {
   "cell_type": "markdown",
   "id": "355b3af6",
   "metadata": {},
   "source": [
    "indexe štejemo z 0"
   ]
  },
  {
   "cell_type": "code",
   "execution_count": null,
   "id": "03477b9f",
   "metadata": {},
   "outputs": [],
   "source": []
  },
  {
   "cell_type": "markdown",
   "id": "93be8794",
   "metadata": {},
   "source": [
    "## Branje datotek"
   ]
  },
  {
   "cell_type": "markdown",
   "id": "60ffaf71",
   "metadata": {},
   "source": [
    "Modes: r, w, a, + je opcija za branje pri a in w"
   ]
  },
  {
   "cell_type": "code",
   "execution_count": 44,
   "id": "eff5188f",
   "metadata": {},
   "outputs": [],
   "source": [
    "f_test = open(\"data/file.txt\", \"r\")\n",
    "podatki = f_test.readlines()"
   ]
  },
  {
   "cell_type": "code",
   "execution_count": 45,
   "id": "d14bb505",
   "metadata": {},
   "outputs": [
    {
     "name": "stdout",
     "output_type": "stream",
     "text": [
      "['test1\\n', 'test2\\n', 'test3']\n",
      "<class 'list'>\n"
     ]
    }
   ],
   "source": [
    "print(podatki)\n",
    "print(type(podatki))"
   ]
  },
  {
   "cell_type": "code",
   "execution_count": 51,
   "id": "aecf467c",
   "metadata": {},
   "outputs": [
    {
     "data": {
      "text/plain": [
       "'test2'"
      ]
     },
     "execution_count": 51,
     "metadata": {},
     "output_type": "execute_result"
    }
   ],
   "source": [
    "podatki[1].strip()"
   ]
  },
  {
   "cell_type": "code",
   "execution_count": 52,
   "id": "42b6e559",
   "metadata": {},
   "outputs": [],
   "source": [
    "f_test.close()"
   ]
  },
  {
   "cell_type": "code",
   "execution_count": 57,
   "id": "671cb503",
   "metadata": {},
   "outputs": [
    {
     "name": "stdout",
     "output_type": "stream",
     "text": [
      "['test1\\n', 'test2\\n', 'test3']\n",
      "['test1\\n', 'test2\\n', 'test3']\n"
     ]
    }
   ],
   "source": [
    "# with stavek - context manager\n",
    "\n",
    "with open(\"data/file.txt\", \"r\") as f_test:\n",
    "    podatki = f_test.readlines()\n",
    "    print(podatki)\n",
    "\n",
    "#data2= f_test.readlines()\n",
    "print(podatki)"
   ]
  },
  {
   "cell_type": "code",
   "execution_count": 58,
   "id": "a6d6c093",
   "metadata": {},
   "outputs": [],
   "source": [
    "l1 = ['AAAAAAAAAAAAAAAAAAAAA\\n', 'AAAAAAAAAAAAAAAAAAAAA\\n', 'AAAAAAAAAAAAAAAAAAAAA\\n']\n",
    "l2 = ['BBBBBBBBBBBBBBB\\n', 'BBBBBBBBBBBBBBB\\n', 'BBBBBBBBBBBBBBB\\n']"
   ]
  },
  {
   "cell_type": "code",
   "execution_count": 60,
   "id": "cc42eedf",
   "metadata": {},
   "outputs": [],
   "source": [
    "merge = l1 + l2"
   ]
  },
  {
   "cell_type": "code",
   "execution_count": 63,
   "id": "f4a484cc",
   "metadata": {},
   "outputs": [
    {
     "data": {
      "text/plain": [
       "'AAAAAAAAAAAAAAAAAAAAA\\n'"
      ]
     },
     "execution_count": 63,
     "metadata": {},
     "output_type": "execute_result"
    }
   ],
   "source": [
    "merge[1]"
   ]
  },
  {
   "cell_type": "code",
   "execution_count": 67,
   "id": "4efabe38",
   "metadata": {},
   "outputs": [
    {
     "name": "stdout",
     "output_type": "stream",
     "text": [
      "['AAAAAAAAAAAAAAAAAAAAA']\n",
      "['AAAAAAAAAAAAAAAAAAAAA', 'AAAAAAAAAAAAAAAAAAAAA']\n",
      "['AAAAAAAAAAAAAAAAAAAAA', 'AAAAAAAAAAAAAAAAAAAAA', 'AAAAAAAAAAAAAAAAAAAAA']\n",
      "['AAAAAAAAAAAAAAAAAAAAA', 'AAAAAAAAAAAAAAAAAAAAA', 'AAAAAAAAAAAAAAAAAAAAA', 'BBBBBBBBBBBBBBB']\n",
      "['AAAAAAAAAAAAAAAAAAAAA', 'AAAAAAAAAAAAAAAAAAAAA', 'AAAAAAAAAAAAAAAAAAAAA', 'BBBBBBBBBBBBBBB', 'BBBBBBBBBBBBBBB']\n",
      "['AAAAAAAAAAAAAAAAAAAAA', 'AAAAAAAAAAAAAAAAAAAAA', 'AAAAAAAAAAAAAAAAAAAAA', 'BBBBBBBBBBBBBBB', 'BBBBBBBBBBBBBBB', 'BBBBBBBBBBBBBBB']\n"
     ]
    }
   ],
   "source": [
    "new_list= []\n",
    "\n",
    "for element in merge:\n",
    "    new_list.append(element.strip())\n",
    "    print(new_list)"
   ]
  },
  {
   "cell_type": "code",
   "execution_count": 68,
   "id": "778dfc3f",
   "metadata": {},
   "outputs": [
    {
     "data": {
      "text/plain": [
       "['AAAAAAAAAAAAAAAAAAAAA',\n",
       " 'AAAAAAAAAAAAAAAAAAAAA',\n",
       " 'AAAAAAAAAAAAAAAAAAAAA',\n",
       " 'BBBBBBBBBBBBBBB',\n",
       " 'BBBBBBBBBBBBBBB',\n",
       " 'BBBBBBBBBBBBBBB']"
      ]
     },
     "execution_count": 68,
     "metadata": {},
     "output_type": "execute_result"
    }
   ],
   "source": [
    "new_list"
   ]
  },
  {
   "cell_type": "code",
   "execution_count": 71,
   "id": "0f735236",
   "metadata": {},
   "outputs": [],
   "source": [
    "data = []\n",
    "data.append(\"dsdsd\")"
   ]
  },
  {
   "cell_type": "code",
   "execution_count": 72,
   "id": "412f8928",
   "metadata": {},
   "outputs": [
    {
     "data": {
      "text/plain": [
       "['dsdsd']"
      ]
     },
     "execution_count": 72,
     "metadata": {},
     "output_type": "execute_result"
    }
   ],
   "source": [
    "data"
   ]
  },
  {
   "cell_type": "code",
   "execution_count": 73,
   "id": "ff732d02",
   "metadata": {},
   "outputs": [],
   "source": [
    "data.append(\"sffrggr\")"
   ]
  },
  {
   "cell_type": "code",
   "execution_count": 74,
   "id": "191f9798",
   "metadata": {},
   "outputs": [
    {
     "data": {
      "text/plain": [
       "['dsdsd', 'sffrggr']"
      ]
     },
     "execution_count": 74,
     "metadata": {},
     "output_type": "execute_result"
    }
   ],
   "source": [
    "data"
   ]
  },
  {
   "cell_type": "code",
   "execution_count": 75,
   "id": "cc8d0d42",
   "metadata": {},
   "outputs": [],
   "source": [
    "a = \"lalala\""
   ]
  },
  {
   "cell_type": "code",
   "execution_count": 77,
   "id": "6aeb2169",
   "metadata": {},
   "outputs": [
    {
     "data": {
      "text/plain": [
       "'lalala\\n'"
      ]
     },
     "execution_count": 77,
     "metadata": {},
     "output_type": "execute_result"
    }
   ],
   "source": [
    "a + \"\\n\""
   ]
  },
  {
   "cell_type": "markdown",
   "id": "3ef0eed7",
   "metadata": {},
   "source": [
    "## Tuple"
   ]
  },
  {
   "cell_type": "code",
   "execution_count": 120,
   "id": "f90ceecd",
   "metadata": {},
   "outputs": [],
   "source": [
    "t = (1,2,3)"
   ]
  },
  {
   "cell_type": "code",
   "execution_count": 121,
   "id": "23b7ec2e",
   "metadata": {},
   "outputs": [
    {
     "data": {
      "text/plain": [
       "1"
      ]
     },
     "execution_count": 121,
     "metadata": {},
     "output_type": "execute_result"
    }
   ],
   "source": [
    "t[0]"
   ]
  },
  {
   "cell_type": "code",
   "execution_count": 126,
   "id": "a379163b",
   "metadata": {},
   "outputs": [
    {
     "ename": "TypeError",
     "evalue": "'tuple' object does not support item assignment",
     "output_type": "error",
     "traceback": [
      "\u001b[1;31m---------------------------------------------------------------------------\u001b[0m",
      "\u001b[1;31mTypeError\u001b[0m                                 Traceback (most recent call last)",
      "Cell \u001b[1;32mIn[126], line 1\u001b[0m\n\u001b[1;32m----> 1\u001b[0m \u001b[43mt\u001b[49m\u001b[43m[\u001b[49m\u001b[38;5;241;43m0\u001b[39;49m\u001b[43m]\u001b[49m \u001b[38;5;241m=\u001b[39m \u001b[38;5;241m34\u001b[39m\n",
      "\u001b[1;31mTypeError\u001b[0m: 'tuple' object does not support item assignment"
     ]
    }
   ],
   "source": [
    "t[0] = 34"
   ]
  },
  {
   "cell_type": "code",
   "execution_count": 122,
   "id": "fdaa8084",
   "metadata": {},
   "outputs": [],
   "source": [
    "l = [1,2,3]"
   ]
  },
  {
   "cell_type": "code",
   "execution_count": 124,
   "id": "b1f8a82c",
   "metadata": {},
   "outputs": [],
   "source": [
    "l[0] = \"a\""
   ]
  },
  {
   "cell_type": "code",
   "execution_count": 125,
   "id": "854550e2",
   "metadata": {},
   "outputs": [
    {
     "name": "stdout",
     "output_type": "stream",
     "text": [
      "['a', 2, 3]\n"
     ]
    }
   ],
   "source": [
    "print(l)"
   ]
  },
  {
   "cell_type": "code",
   "execution_count": null,
   "id": "d5986e73",
   "metadata": {},
   "outputs": [],
   "source": []
  },
  {
   "cell_type": "code",
   "execution_count": null,
   "id": "5ce71521",
   "metadata": {},
   "outputs": [],
   "source": []
  },
  {
   "cell_type": "markdown",
   "id": "a0d92758",
   "metadata": {},
   "source": [
    "## If stavek"
   ]
  },
  {
   "cell_type": "code",
   "execution_count": 83,
   "id": "19e69dd7",
   "metadata": {},
   "outputs": [],
   "source": [
    "naredi = 45\n",
    "\n",
    "if naredi == 42:\n",
    "    print(\"Narejeno\")"
   ]
  },
  {
   "cell_type": "markdown",
   "id": "b8c37f02",
   "metadata": {},
   "source": [
    "## List comprehations"
   ]
  },
  {
   "cell_type": "code",
   "execution_count": 84,
   "id": "32a11667",
   "metadata": {},
   "outputs": [],
   "source": [
    "new_list= []\n",
    "\n",
    "for element in merge:\n",
    "    new_list.append(element.strip())"
   ]
  },
  {
   "cell_type": "code",
   "execution_count": 85,
   "id": "27622cf9",
   "metadata": {},
   "outputs": [
    {
     "data": {
      "text/plain": [
       "['AAAAAAAAAAAAAAAAAAAAA\\n',\n",
       " 'AAAAAAAAAAAAAAAAAAAAA\\n',\n",
       " 'AAAAAAAAAAAAAAAAAAAAA\\n',\n",
       " 'BBBBBBBBBBBBBBB\\n',\n",
       " 'BBBBBBBBBBBBBBB\\n',\n",
       " 'BBBBBBBBBBBBBBB\\n']"
      ]
     },
     "execution_count": 85,
     "metadata": {},
     "output_type": "execute_result"
    }
   ],
   "source": [
    "merge"
   ]
  },
  {
   "cell_type": "code",
   "execution_count": 91,
   "id": "fc394c29",
   "metadata": {},
   "outputs": [],
   "source": [
    "merge = [element.strip() for element in merge]"
   ]
  },
  {
   "cell_type": "code",
   "execution_count": 89,
   "id": "417d8c07",
   "metadata": {},
   "outputs": [
    {
     "data": {
      "text/plain": [
       "['AAAAAAAAAAAAAAAAAAAAA',\n",
       " 'AAAAAAAAAAAAAAAAAAAAA',\n",
       " 'AAAAAAAAAAAAAAAAAAAAA',\n",
       " 'BBBBBBBBBBBBBBB',\n",
       " 'BBBBBBBBBBBBBBB',\n",
       " 'BBBBBBBBBBBBBBB']"
      ]
     },
     "execution_count": 89,
     "metadata": {},
     "output_type": "execute_result"
    }
   ],
   "source": [
    "merge"
   ]
  },
  {
   "cell_type": "markdown",
   "id": "32fa9c9a",
   "metadata": {},
   "source": [
    "## Funkcije"
   ]
  },
  {
   "cell_type": "code",
   "execution_count": 95,
   "id": "2006a42a",
   "metadata": {},
   "outputs": [
    {
     "name": "stdout",
     "output_type": "stream",
     "text": [
      "['test1\\n', 'test2\\n', 'test3']\n"
     ]
    }
   ],
   "source": [
    "with open(\"data/file.txt\", \"r\") as f_test:\n",
    "    podatki = f_test.readlines()\n",
    "    print(podatki)"
   ]
  },
  {
   "cell_type": "code",
   "execution_count": 99,
   "id": "ce9475b0",
   "metadata": {},
   "outputs": [],
   "source": []
  },
  {
   "cell_type": "code",
   "execution_count": 104,
   "id": "9ab9760b",
   "metadata": {},
   "outputs": [
    {
     "name": "stdout",
     "output_type": "stream",
     "text": [
      "['test1\\n', 'test2\\n', 'test3']\n"
     ]
    }
   ],
   "source": [
    "def print_file_content(file_path):\n",
    "    with open(file_path, \"r\") as f_test:\n",
    "        podatki = f_test.readlines()\n",
    "        return podatki\n",
    "        #print(podatki)\n",
    "\n",
    "data = print_file_content(\"data/file.txt\")\n",
    "print(data)\n"
   ]
  },
  {
   "cell_type": "code",
   "execution_count": null,
   "id": "3bbd084a",
   "metadata": {},
   "outputs": [],
   "source": [
    "paths = [\"data/file.txt\", \"data/file2.txt\", \"data/file3.txt\"]\n",
    "for path in paths:\n",
    "    print_file_content(path)"
   ]
  },
  {
   "cell_type": "code",
   "execution_count": 111,
   "id": "4c01ae02",
   "metadata": {},
   "outputs": [],
   "source": [
    "def sum_data(number1, number2):\n",
    "    return number1 + number2"
   ]
  },
  {
   "cell_type": "code",
   "execution_count": 112,
   "id": "4726cf91",
   "metadata": {},
   "outputs": [
    {
     "data": {
      "text/plain": [
       "50"
      ]
     },
     "execution_count": 112,
     "metadata": {},
     "output_type": "execute_result"
    }
   ],
   "source": [
    "sum_data(5, 45)"
   ]
  },
  {
   "cell_type": "code",
   "execution_count": 113,
   "id": "56d7a8b1",
   "metadata": {},
   "outputs": [
    {
     "data": {
      "text/plain": [
       "328"
      ]
     },
     "execution_count": 113,
     "metadata": {},
     "output_type": "execute_result"
    }
   ],
   "source": [
    "sum_data(323, 5)"
   ]
  },
  {
   "cell_type": "markdown",
   "id": "4997232a",
   "metadata": {},
   "source": [
    "## Paths"
   ]
  },
  {
   "cell_type": "code",
   "execution_count": 132,
   "id": "40ee1ef9",
   "metadata": {},
   "outputs": [
    {
     "data": {
      "text/plain": [
       "['C:\\\\LEON\\\\ICTA\\\\Tečaji\\\\ICTA_NIB_Python_osnovni\\\\uvod-v-python-in-razvojna-okolja\\\\07_Osnove_programiranja\\\\data\\\\file.txt',\n",
       " 'C:\\\\LEON\\\\ICTA\\\\Tečaji\\\\ICTA_NIB_Python_osnovni\\\\uvod-v-python-in-razvojna-okolja\\\\07_Osnove_programiranja\\\\data\\\\file2.txt',\n",
       " 'C:\\\\LEON\\\\ICTA\\\\Tečaji\\\\ICTA_NIB_Python_osnovni\\\\uvod-v-python-in-razvojna-okolja\\\\07_Osnove_programiranja\\\\data\\\\file3.txt']"
      ]
     },
     "execution_count": 132,
     "metadata": {},
     "output_type": "execute_result"
    }
   ],
   "source": [
    "import os \n",
    "\n",
    "def get_absolute_file_paths(folder_name):\n",
    "    absolute_paths = []\n",
    "    for dirpath, _, filenames in os.walk(folder_name):\n",
    "        for filename in filenames:\n",
    "            absolute_path = os.path.abspath(os.path.join(dirpath, filename))\n",
    "            absolute_paths.append(absolute_path)\n",
    "    return absolute_paths\n",
    "    \n",
    "    \n",
    "    \n",
    "    \n",
    "    \n",
    "get_absolute_file_paths(\"data\")"
   ]
  },
  {
   "cell_type": "code",
   "execution_count": null,
   "id": "241e6cc7",
   "metadata": {},
   "outputs": [],
   "source": [
    "       for filename in filenames:\n",
    "            absolute_path = os.path.abspath(os.path.join(dirpath, filename))\n",
    "            absolute_paths.append(absolute_path)\n",
    "    return absolute_paths"
   ]
  },
  {
   "cell_type": "code",
   "execution_count": 116,
   "id": "98fadb9e",
   "metadata": {},
   "outputs": [
    {
     "data": {
      "text/plain": [
       "['C:\\\\LEON\\\\ICTA\\\\Tečaji\\\\ICTA_NIB_Python_osnovni\\\\uvod-v-python-in-razvojna-okolja\\\\07_Osnove_programiranja\\\\data\\\\file.txt',\n",
       " 'C:\\\\LEON\\\\ICTA\\\\Tečaji\\\\ICTA_NIB_Python_osnovni\\\\uvod-v-python-in-razvojna-okolja\\\\07_Osnove_programiranja\\\\data\\\\file2.txt',\n",
       " 'C:\\\\LEON\\\\ICTA\\\\Tečaji\\\\ICTA_NIB_Python_osnovni\\\\uvod-v-python-in-razvojna-okolja\\\\07_Osnove_programiranja\\\\data\\\\file3.txt']"
      ]
     },
     "execution_count": 116,
     "metadata": {},
     "output_type": "execute_result"
    }
   ],
   "source": [
    "get_absolute_file_paths(\"data\")"
   ]
  },
  {
   "cell_type": "code",
   "execution_count": 119,
   "id": "aa278321",
   "metadata": {},
   "outputs": [
    {
     "name": "stdout",
     "output_type": "stream",
     "text": [
      "('data', [], ['file.txt', 'file2.txt', 'file3.txt'])\n"
     ]
    }
   ],
   "source": [
    "for line in os.walk(\"data\"):\n",
    "    print(line)"
   ]
  },
  {
   "cell_type": "markdown",
   "id": "340349e6",
   "metadata": {},
   "source": [
    "# Branje command line argumentov"
   ]
  },
  {
   "cell_type": "markdown",
   "id": "04601799",
   "metadata": {},
   "source": [
    "https://typer.tiangolo.com/"
   ]
  },
  {
   "cell_type": "code",
   "execution_count": null,
   "id": "ecfffd42",
   "metadata": {},
   "outputs": [],
   "source": []
  },
  {
   "cell_type": "code",
   "execution_count": null,
   "id": "26866601",
   "metadata": {},
   "outputs": [],
   "source": []
  },
  {
   "cell_type": "code",
   "execution_count": null,
   "id": "697c7828",
   "metadata": {},
   "outputs": [],
   "source": [
    "data_folder_name = data/reports\n",
    "filter_name = repo_22_06*"
   ]
  },
  {
   "cell_type": "code",
   "execution_count": null,
   "id": "8e1e34bc",
   "metadata": {},
   "outputs": [],
   "source": []
  },
  {
   "cell_type": "code",
   "execution_count": null,
   "id": "3aeb7121",
   "metadata": {},
   "outputs": [],
   "source": []
  },
  {
   "cell_type": "code",
   "execution_count": null,
   "id": "e3aab6b0",
   "metadata": {},
   "outputs": [],
   "source": []
  }
 ],
 "metadata": {
  "kernelspec": {
   "display_name": "Python 3 (ipykernel)",
   "language": "python",
   "name": "python3"
  },
  "language_info": {
   "codemirror_mode": {
    "name": "ipython",
    "version": 3
   },
   "file_extension": ".py",
   "mimetype": "text/x-python",
   "name": "python",
   "nbconvert_exporter": "python",
   "pygments_lexer": "ipython3",
   "version": "3.11.4"
  }
 },
 "nbformat": 4,
 "nbformat_minor": 5
}
